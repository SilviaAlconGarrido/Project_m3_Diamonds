{
 "cells": [
  {
   "cell_type": "code",
   "execution_count": 1,
   "id": "0a9440fe",
   "metadata": {},
   "outputs": [],
   "source": [
    "#leer csv (prueba 'solo columnas numericas')"
   ]
  },
  {
   "cell_type": "code",
   "execution_count": null,
   "id": "92beca4e",
   "metadata": {},
   "outputs": [],
   "source": [
    "\n",
    "data = pd.read_csv(\"../data/diamonds_train.csv\")"
   ]
  },
  {
   "cell_type": "code",
   "execution_count": null,
   "id": "089084eb",
   "metadata": {},
   "outputs": [],
   "source": [
    "#entrenar ele modelo: linear regresion(indicar, el modelo y el scaler en cada notebook)"
   ]
  },
  {
   "cell_type": "code",
   "execution_count": null,
   "id": "5a53a4d3",
   "metadata": {},
   "outputs": [],
   "source": [
    "X = data.drop('price', axis=1)\n",
    "y = data['price'] \n",
    "# Your code here:\n",
    "X_train, X_test, y_train, y_test = train_test_split(X, y, test_size=0.2, random_state=42)\n",
    "print(f\"X_train: {X_train.shape}, X_test: {X_test.shape}, y_train: {y_train.shape}, y_test: {y_test.shape}\")"
   ]
  },
  {
   "cell_type": "code",
   "execution_count": 2,
   "id": "7eca918b",
   "metadata": {},
   "outputs": [
    {
     "ename": "NameError",
     "evalue": "name 'LinearRegression' is not defined",
     "output_type": "error",
     "traceback": [
      "\u001b[0;31m---------------------------------------------------------------------------\u001b[0m",
      "\u001b[0;31mNameError\u001b[0m                                 Traceback (most recent call last)",
      "Cell \u001b[0;32mIn[2], line 1\u001b[0m\n\u001b[0;32m----> 1\u001b[0m model \u001b[38;5;241m=\u001b[39m \u001b[43mLinearRegression\u001b[49m()\n\u001b[1;32m      3\u001b[0m hyperparameters \u001b[38;5;241m=\u001b[39m model\u001b[38;5;241m.\u001b[39mget_params()\n\u001b[1;32m      5\u001b[0m \u001b[38;5;28mprint\u001b[39m(\u001b[38;5;28mtype\u001b[39m(model), \u001b[38;5;124m'\u001b[39m\u001b[38;5;130;01m\\n\u001b[39;00m\u001b[38;5;124m'\u001b[39m)\n",
      "\u001b[0;31mNameError\u001b[0m: name 'LinearRegression' is not defined"
     ]
    }
   ],
   "source": [
    "model = LinearRegression()\n",
    "\n",
    "hyperparameters = model.get_params()\n",
    "\n",
    "print(type(model), '\\n')\n",
    "print('Model hyperparameters:', hyperparameters, '\\n')"
   ]
  },
  {
   "cell_type": "code",
   "execution_count": null,
   "id": "5d90ad89",
   "metadata": {},
   "outputs": [],
   "source": [
    "# MSE calculation\n",
    "\n",
    "mean_squared_error(y_test, y_pred)\n",
    "\n",
    "rmse = mean_squared_error(y_test, y_pred, squared=False)\n",
    "rmse"
   ]
  },
  {
   "cell_type": "code",
   "execution_count": null,
   "id": "5693f621",
   "metadata": {},
   "outputs": [],
   "source": [
    "# Model training\n",
    "\n",
    "model.fit(X_train, y_train)\n",
    "\n",
    "print('Model:', model, '\\n')\n",
    "print('Model hyperparameters:', hyperparameters, '\\n')\n",
    "print('Model coefficients:', model.coef_, '\\n')"
   ]
  },
  {
   "cell_type": "code",
   "execution_count": null,
   "id": "5dc2762f",
   "metadata": {},
   "outputs": [],
   "source": [
    "#predecir"
   ]
  },
  {
   "cell_type": "code",
   "execution_count": null,
   "id": "9b7755da",
   "metadata": {},
   "outputs": [],
   "source": [
    "# Model predictions\n",
    "\n",
    "predictions = model.predict(X_test)\n",
    "\n",
    "print(type(predictions))"
   ]
  },
  {
   "cell_type": "code",
   "execution_count": null,
   "id": "cc1e105f",
   "metadata": {},
   "outputs": [],
   "source": [
    "#leer csv train"
   ]
  },
  {
   "cell_type": "code",
   "execution_count": null,
   "id": "c52005d7",
   "metadata": {},
   "outputs": [],
   "source": [
    "data = pd.read_csv(\"../data/diamonds_test.csv\")"
   ]
  },
  {
   "cell_type": "code",
   "execution_count": null,
   "id": "a837af30",
   "metadata": {},
   "outputs": [],
   "source": [
    "#sumission( Añnadir el RMSD que te de en el notebook)\n",
    "%%time\n",
    "\n",
    "# Model predictions\n",
    "\n",
    "predictions_test = model.predict(data)\n",
    "\n",
    "print(type(predictions_test))\n",
    "\n",
    "predictions_test = pd.DataFrame(predictions_test, columns=['price'])\n",
    "\n",
    "predictions_test['id'] = range(0, len(predictions_test))\n",
    "\n",
    "predictions_test = predictions_test[['id', 'price']]\n",
    "\n",
    "predictions_test.to_csv('../data/submission/submission_LR1_RMSE.csv', index = False)"
   ]
  }
 ],
 "metadata": {
  "kernelspec": {
   "display_name": "Python m2_env",
   "language": "python",
   "name": "m2_env"
  },
  "language_info": {
   "codemirror_mode": {
    "name": "ipython",
    "version": 3
   },
   "file_extension": ".py",
   "mimetype": "text/x-python",
   "name": "python",
   "nbconvert_exporter": "python",
   "pygments_lexer": "ipython3",
   "version": "3.8.18"
  }
 },
 "nbformat": 4,
 "nbformat_minor": 5
}
